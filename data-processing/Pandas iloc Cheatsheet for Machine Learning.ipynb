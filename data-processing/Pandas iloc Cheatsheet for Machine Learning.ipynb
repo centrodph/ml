{
 "cells": [
  {
   "cell_type": "markdown",
   "id": "9d00e5a3",
   "metadata": {},
   "source": [
    "# Pandas `iloc` Cheatsheet for Machine Learning\n",
    "\n",
    "The `iloc` indexer in pandas is a powerful tool for data selection, slicing, and manipulation, essential for preparing datasets for machine learning tasks. Here's a comprehensive guide to help you master `iloc`.\n",
    "\n",
    "## Table of Contents\n",
    "1. **Introduction to `iloc`**\n",
    "2. **Basic Usage**\n",
    "    - Selecting Rows\n",
    "    - Selecting Columns\n",
    "3. **Advanced Indexing**\n",
    "    - Slicing Rows and Columns\n",
    "    - Selecting Specific Rows and Columns\n",
    "4. **Conditional Selection**\n",
    "5. **Modifying Data**\n",
    "6. **Practical Machine Learning Examples**\n",
    "    - Splitting Data into Features and Target\n",
    "    - Handling Missing Data\n",
    "    - Data Normalization\n",
    "\n",
    "## 1. Introduction to `iloc`\n",
    "The `iloc` indexer is used for integer-location based indexing for selection by position. It is one of the primary indexers for Pandas data structures."
   ]
  },
  {
   "cell_type": "code",
   "execution_count": 2,
   "id": "f9c4f454",
   "metadata": {},
   "outputs": [
    {
     "name": "stdout",
     "output_type": "stream",
     "text": [
      "   A  B   C   D\n",
      "0  1  5   9  13\n",
      "1  2  6  10  14\n",
      "2  3  7  11  15\n",
      "3  4  8  12  16\n"
     ]
    }
   ],
   "source": [
    "import pandas as pd\n",
    "\n",
    "# Sample DataFrame\n",
    "data = {\n",
    "    'A': [1, 2, 3, 4],\n",
    "    'B': [5, 6, 7, 8],\n",
    "    'C': [9, 10, 11, 12],\n",
    "    'D': [13, 14, 15, 16]\n",
    "}\n",
    "df = pd.DataFrame(data)\n",
    "print(df)\n"
   ]
  },
  {
   "cell_type": "markdown",
   "id": "3be30f6c",
   "metadata": {},
   "source": [
    "## 2. Basic Usage\n",
    "\n",
    "### Selecting Rows\n",
    "To select rows using `iloc`, you specify the row index.\n"
   ]
  },
  {
   "cell_type": "code",
   "execution_count": 3,
   "id": "c7586784",
   "metadata": {},
   "outputs": [
    {
     "name": "stdout",
     "output_type": "stream",
     "text": [
      "A     1\n",
      "B     5\n",
      "C     9\n",
      "D    13\n",
      "Name: 0, dtype: int64\n"
     ]
    }
   ],
   "source": [
    "# Select the first row\n",
    "print(df.iloc[0])\n",
    "\n"
   ]
  },
  {
   "cell_type": "code",
   "execution_count": 4,
   "id": "51490d9f",
   "metadata": {},
   "outputs": [
    {
     "name": "stdout",
     "output_type": "stream",
     "text": [
      "   A  B   C   D\n",
      "0  1  5   9  13\n",
      "1  2  6  10  14\n",
      "2  3  7  11  15\n"
     ]
    }
   ],
   "source": [
    "# Select the first three rows\n",
    "print(df.iloc[:3])"
   ]
  },
  {
   "cell_type": "markdown",
   "id": "6a85b0f5",
   "metadata": {},
   "source": [
    "### Selecting Columns\n",
    "To select columns, you specify the column index."
   ]
  },
  {
   "cell_type": "code",
   "execution_count": 5,
   "id": "1dffbc57",
   "metadata": {},
   "outputs": [
    {
     "name": "stdout",
     "output_type": "stream",
     "text": [
      "0    1\n",
      "1    2\n",
      "2    3\n",
      "3    4\n",
      "Name: A, dtype: int64\n"
     ]
    }
   ],
   "source": [
    "# Select the first column\n",
    "print(df.iloc[:, 0])\n"
   ]
  },
  {
   "cell_type": "code",
   "execution_count": 6,
   "id": "065f2d3d",
   "metadata": {},
   "outputs": [
    {
     "name": "stdout",
     "output_type": "stream",
     "text": [
      "   A  B\n",
      "0  1  5\n",
      "1  2  6\n",
      "2  3  7\n",
      "3  4  8\n"
     ]
    }
   ],
   "source": [
    "# Select the first two columns\n",
    "print(df.iloc[:, :2])"
   ]
  },
  {
   "cell_type": "markdown",
   "id": "9ac2b639",
   "metadata": {},
   "source": [
    "## 3. Advanced Indexing\n",
    "\n",
    "### Slicing Rows and Columns\n",
    "You can slice both rows and columns simultaneously."
   ]
  },
  {
   "cell_type": "code",
   "execution_count": 7,
   "id": "391dace7",
   "metadata": {},
   "outputs": [
    {
     "name": "stdout",
     "output_type": "stream",
     "text": [
      "   A  B\n",
      "0  1  5\n",
      "1  2  6\n"
     ]
    }
   ],
   "source": [
    "# Select the first two rows and the first two columns\n",
    "print(df.iloc[:2, :2])"
   ]
  },
  {
   "cell_type": "markdown",
   "id": "8e8946e6",
   "metadata": {},
   "source": [
    "### Selecting Specific Rows and Columns\n",
    "Specify exact row and column indices."
   ]
  },
  {
   "cell_type": "code",
   "execution_count": 8,
   "id": "a880eee6",
   "metadata": {},
   "outputs": [
    {
     "name": "stdout",
     "output_type": "stream",
     "text": [
      "   B   D\n",
      "0  5  13\n",
      "2  7  15\n"
     ]
    }
   ],
   "source": [
    "# Select the first and third rows and the second and fourth columns\n",
    "print(df.iloc[[0, 2], [1, 3]])"
   ]
  },
  {
   "cell_type": "markdown",
   "id": "8d1fa750",
   "metadata": {},
   "source": [
    "## 4. Conditional Selection\n",
    "Using `iloc` in combination with conditions.\n"
   ]
  },
  {
   "cell_type": "code",
   "execution_count": 10,
   "id": "f0d3dbfe",
   "metadata": {},
   "outputs": [
    {
     "name": "stdout",
     "output_type": "stream",
     "text": [
      "   A    C\n",
      "2  3  300\n",
      "3  4  400\n",
      "4  5  500\n"
     ]
    }
   ],
   "source": [
    "# Example DataFrame\n",
    "df_cond = pd.DataFrame({\n",
    "    'A': [1, 2, 3, 4, 5],\n",
    "    'B': [10, 20, 30, 40, 50],\n",
    "    'C': [100, 200, 300, 400, 500]\n",
    "})\n",
    "\n",
    "# Condition to select rows where column 'A' values are greater than 2\n",
    "print(df_cond[df_cond['A'] > 2].iloc[:, [0, 2]])  # Select columns 'A' and 'C'"
   ]
  },
  {
   "cell_type": "markdown",
   "id": "91728dbb",
   "metadata": {},
   "source": [
    "## 5. Modifying Data\n",
    "You can use `iloc` to modify specific parts of the DataFrame."
   ]
  },
  {
   "cell_type": "code",
   "execution_count": 11,
   "id": "de1eaf3f",
   "metadata": {},
   "outputs": [
    {
     "name": "stdout",
     "output_type": "stream",
     "text": [
      "   A  B   C   D\n",
      "0  0  5   9  13\n",
      "1  2  6  10  14\n",
      "2  3  7  11  15\n",
      "3  4  8  12  16\n",
      "   A  B   C   D\n",
      "0  0  5   9  13\n",
      "1  0  6  10  14\n",
      "2  0  7  11  15\n",
      "3  0  8  12  16\n"
     ]
    }
   ],
   "source": [
    "# Set the value of the first cell to 0\n",
    "df.iloc[0, 0] = 0\n",
    "print(df)\n",
    "\n",
    "# Set the values of the first column to 0\n",
    "df.iloc[:, 0] = 0\n",
    "print(df)"
   ]
  },
  {
   "cell_type": "markdown",
   "id": "de21ee4b",
   "metadata": {},
   "source": [
    "## 6. Practical Machine Learning Examples\n",
    "\n",
    "### Splitting Data into Features and Target\n",
    "Separating features (X) and target (y) is a common task."
   ]
  },
  {
   "cell_type": "code",
   "execution_count": 13,
   "id": "72e4d187",
   "metadata": {},
   "outputs": [
    {
     "name": "stdout",
     "output_type": "stream",
     "text": [
      "Features:\n",
      "    Feature1  Feature2\n",
      "0         1        10\n",
      "1         2        20\n",
      "2         3        30\n",
      "3         4        40\n",
      "4         5        50\n",
      "Target:\n",
      " 0    0\n",
      "1    1\n",
      "2    0\n",
      "3    1\n",
      "4    0\n",
      "Name: Target, dtype: int64\n"
     ]
    }
   ],
   "source": [
    "# Sample DataFrame with a target column\n",
    "df_ml = pd.DataFrame({\n",
    "    'Feature1': [1, 2, 3, 4, 5],\n",
    "    'Feature2': [10, 20, 30, 40, 50],\n",
    "    'Target': [0, 1, 0, 1, 0]\n",
    "})\n",
    "\n",
    "# Features (all rows, all columns except the last one)\n",
    "X = df_ml.iloc[:, :-1]\n",
    "\n",
    "# Target (all rows, last column)\n",
    "y = df_ml.iloc[:, -1]\n",
    "\n",
    "print(\"Features:\\n\", X)\n",
    "print(\"Target:\\n\", y)"
   ]
  },
  {
   "cell_type": "markdown",
   "id": "b515e991",
   "metadata": {},
   "source": [
    "### Handling Missing Data\n",
    "Using `iloc` to handle missing data by selecting specific parts of the DataFrame."
   ]
  },
  {
   "cell_type": "code",
   "execution_count": 14,
   "id": "b2e2c564",
   "metadata": {},
   "outputs": [
    {
     "name": "stdout",
     "output_type": "stream",
     "text": [
      "     A    B     C\n",
      "0  1.0  5.0   NaN\n",
      "1  2.0  0.0  10.0\n",
      "2  0.0  7.0  11.0\n",
      "3  4.0  8.0  12.0\n"
     ]
    }
   ],
   "source": [
    "# Sample DataFrame with missing values\n",
    "df_missing = pd.DataFrame({\n",
    "    'A': [1, 2, None, 4],\n",
    "    'B': [5, None, 7, 8],\n",
    "    'C': [None, 10, 11, 12]\n",
    "})\n",
    "\n",
    "# Fill missing values in the first two columns with 0\n",
    "df_missing.iloc[:, :2] = df_missing.iloc[:, :2].fillna(0)\n",
    "print(df_missing)"
   ]
  },
  {
   "cell_type": "markdown",
   "id": "553f6a2c",
   "metadata": {},
   "source": [
    "### Data Normalization\n",
    "Using `iloc` to normalize data."
   ]
  },
  {
   "cell_type": "code",
   "execution_count": 17,
   "id": "9c58a263",
   "metadata": {},
   "outputs": [
    {
     "name": "stdout",
     "output_type": "stream",
     "text": [
      "   Feature1  Feature2\n",
      "0      0.00      0.00\n",
      "1      0.25      0.25\n",
      "2      0.50      0.50\n",
      "3      0.75      0.75\n",
      "4      1.00      1.00\n"
     ]
    }
   ],
   "source": [
    "from sklearn.preprocessing import MinMaxScaler\n",
    "\n",
    "# Sample DataFrame for normalization\n",
    "df_norm = pd.DataFrame({\n",
    "    'Feature1': [1, 2, 3, 4, 5],\n",
    "    'Feature2': [10, 20, 30, 40, 50]\n",
    "})\n",
    "\n",
    "scaler = MinMaxScaler()\n",
    "\n",
    "# Normalize the first two columns\n",
    "df_norm.iloc[:, :2] = scaler.fit_transform(df_norm.iloc[:, :2])\n",
    "print(df_norm)"
   ]
  },
  {
   "cell_type": "markdown",
   "id": "62424ce9",
   "metadata": {},
   "source": [
    "## Conclusion\n",
    "The `iloc` indexer is a versatile and powerful tool for data manipulation in pandas, especially useful in the preprocessing stages of machine learning. Mastering `iloc` allows for efficient and precise data selection and modification, essential for building robust machine learning models."
   ]
  }
 ],
 "metadata": {
  "kernelspec": {
   "display_name": "Python 3 (ipykernel)",
   "language": "python",
   "name": "python3"
  },
  "language_info": {
   "codemirror_mode": {
    "name": "ipython",
    "version": 3
   },
   "file_extension": ".py",
   "mimetype": "text/x-python",
   "name": "python",
   "nbconvert_exporter": "python",
   "pygments_lexer": "ipython3",
   "version": "3.11.7"
  }
 },
 "nbformat": 4,
 "nbformat_minor": 5
}
